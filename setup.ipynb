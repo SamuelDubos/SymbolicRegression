{
 "cells": [
  {
   "cell_type": "markdown",
   "source": [
    "# Test script\n",
    "\n",
    "Welcome to the test script that ensures your environment is compatible.\n",
    "\n",
    "First of all, run the following cell by selecting it and pressing Ctrl + Enter. The script should take about 4 minutes to finish.\n",
    "When you see the \"Choose Files\" button, click on it and select the `planets.csv` file from your local disk.\n",
    "\n",
    "If an 8 rows x 47 columns table is displayed, everything worked. Otherwise, you might have a problem with the platform."
   ],
   "metadata": {
    "collapsed": false
   }
  },
  {
   "cell_type": "code",
   "execution_count": null,
   "outputs": [],
   "source": [
    "!pip install pysr\n",
    "from pysr import PySRRegressor\n",
    "import pandas as pd\n",
    "from google.colab import files\n",
    "files.upload()\n",
    "\n",
    "df = pd.read_csv('planets.csv')\n",
    "df.describe()"
   ],
   "metadata": {
    "collapsed": false,
    "pycharm": {
     "name": "#%%\n"
    }
   }
  }
 ],
 "metadata": {
  "kernelspec": {
   "display_name": "Python 3",
   "language": "python",
   "name": "python3"
  },
  "language_info": {
   "codemirror_mode": {
    "name": "ipython",
    "version": 2
   },
   "file_extension": ".py",
   "mimetype": "text/x-python",
   "name": "python",
   "nbconvert_exporter": "python",
   "pygments_lexer": "ipython2",
   "version": "2.7.6"
  }
 },
 "nbformat": 4,
 "nbformat_minor": 0
}